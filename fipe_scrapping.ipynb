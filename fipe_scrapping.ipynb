{
 "metadata": {
  "language_info": {
   "codemirror_mode": {
    "name": "ipython",
    "version": 3
   },
   "file_extension": ".py",
   "mimetype": "text/x-python",
   "name": "python",
   "nbconvert_exporter": "python",
   "pygments_lexer": "ipython3",
   "version": "3.8.5"
  },
  "orig_nbformat": 4,
  "kernelspec": {
   "name": "python3",
   "display_name": "Python 3.8.5 64-bit ('base': conda)"
  },
  "interpreter": {
   "hash": "80df4573815e2fbc1434c8f9d7234411ca19ec91ea5669cedcae75f03f5659be"
  }
 },
 "nbformat": 4,
 "nbformat_minor": 2,
 "cells": [
  {
   "cell_type": "code",
   "execution_count": 1,
   "metadata": {},
   "outputs": [],
   "source": [
    "import pandas as pd \n",
    "import numpy as np \n",
    "from datetime import date\n",
    "import requests\n",
    "import json"
   ]
  },
  {
   "cell_type": "code",
   "execution_count": 2,
   "metadata": {},
   "outputs": [],
   "source": [
    "def buscarMarca():\n",
    "    url = \"https://veiculos.fipe.org.br/api/veiculos//ConsultarMarcas?codigoTabelaReferencia=267&codigoTipoVeiculo=1\"\n",
    "\n",
    "    payload = \"{\\r\\n    \\r\\n}\"\n",
    "    headers = {\n",
    "    'Content-Type': 'text/plain',\n",
    "    'Cookie': 'ROUTEID=.3'\n",
    "    }\n",
    "    response = requests.request(\"POST\", url, headers=headers, data=payload)\n",
    "    return pd.DataFrame(json.loads(response.content))\n",
    "\n",
    "def buscarCarros(marcas):\n",
    "    modelos = pd.DataFrame()\n",
    "    for marca in marcas:\n",
    "        url = f\"https://veiculos.fipe.org.br/api/veiculos//ConsultarModelos?codigoTipoVeiculo=1&codigoTabelaReferencia=267&codigoMarca={marca}\"\n",
    "        payload = \"{\\r\\n    \\r\\n}\"\n",
    "        headers = {\n",
    "        'Content-Type': 'text/plain',\n",
    "        'Cookie': 'ROUTEID=.3'\n",
    "        }\n",
    "        response = requests.request(\"POST\", url, headers=headers, data=payload)\n",
    "        try:\n",
    "            veiculos = json.loads(response.content)\n",
    "        except:\n",
    "            print('')\n",
    "        df_temp = pd.DataFrame(veiculos['Modelos'])\n",
    "        df_temp['id_marca'] = f\"{marca}\"\n",
    "        modelos = pd.concat([df_temp, modelos])\n",
    "    return modelos\n",
    "\n",
    "marcas_df = buscarMarca()\n",
    "marcas_df.columns = ['nome_marca', 'id_marca']\n",
    "marcas_df\n",
    "\n",
    "modelos_df = buscarCarros(marcas_df['id_marca'])\n"
   ]
  },
  {
   "cell_type": "code",
   "execution_count": 3,
   "metadata": {},
   "outputs": [
    {
     "output_type": "execute_result",
     "data": {
      "text/plain": [
       "                                 nome_modelo  id_modelo id_marca\n",
       "0              Buggy  Walk Sport 1.6 8V 58cv       3998      120\n",
       "0                 Way 1.6 Total Flex 8V Mec.       5088      163\n",
       "1                 Way 1.8 Total Flex 8V Mec.       5089      163\n",
       "0   AMAROK CD2.0 16V/S CD2.0 16V TDI 4x2 Die       5585       59\n",
       "1   AMAROK CD2.0 16V/S CD2.0 16V TDI 4x4 Die       5586       59\n",
       "..                                       ...        ...      ...\n",
       "6            MARRUÁ AM 200 2.8 CS TDI Diesel       4568        2\n",
       "7          MARRUÁ AM 50 2.8 140cv TDI Diesel       4569        2\n",
       "0                             Integra GS 1.8          1        1\n",
       "1                             Legend 3.2/3.5          2        1\n",
       "2                                    NSX 3.0          3        1\n",
       "\n",
       "[6108 rows x 3 columns]"
      ],
      "text/html": "<div>\n<style scoped>\n    .dataframe tbody tr th:only-of-type {\n        vertical-align: middle;\n    }\n\n    .dataframe tbody tr th {\n        vertical-align: top;\n    }\n\n    .dataframe thead th {\n        text-align: right;\n    }\n</style>\n<table border=\"1\" class=\"dataframe\">\n  <thead>\n    <tr style=\"text-align: right;\">\n      <th></th>\n      <th>nome_modelo</th>\n      <th>id_modelo</th>\n      <th>id_marca</th>\n    </tr>\n  </thead>\n  <tbody>\n    <tr>\n      <th>0</th>\n      <td>Buggy  Walk Sport 1.6 8V 58cv</td>\n      <td>3998</td>\n      <td>120</td>\n    </tr>\n    <tr>\n      <th>0</th>\n      <td>Way 1.6 Total Flex 8V Mec.</td>\n      <td>5088</td>\n      <td>163</td>\n    </tr>\n    <tr>\n      <th>1</th>\n      <td>Way 1.8 Total Flex 8V Mec.</td>\n      <td>5089</td>\n      <td>163</td>\n    </tr>\n    <tr>\n      <th>0</th>\n      <td>AMAROK CD2.0 16V/S CD2.0 16V TDI 4x2 Die</td>\n      <td>5585</td>\n      <td>59</td>\n    </tr>\n    <tr>\n      <th>1</th>\n      <td>AMAROK CD2.0 16V/S CD2.0 16V TDI 4x4 Die</td>\n      <td>5586</td>\n      <td>59</td>\n    </tr>\n    <tr>\n      <th>...</th>\n      <td>...</td>\n      <td>...</td>\n      <td>...</td>\n    </tr>\n    <tr>\n      <th>6</th>\n      <td>MARRUÁ AM 200 2.8 CS TDI Diesel</td>\n      <td>4568</td>\n      <td>2</td>\n    </tr>\n    <tr>\n      <th>7</th>\n      <td>MARRUÁ AM 50 2.8 140cv TDI Diesel</td>\n      <td>4569</td>\n      <td>2</td>\n    </tr>\n    <tr>\n      <th>0</th>\n      <td>Integra GS 1.8</td>\n      <td>1</td>\n      <td>1</td>\n    </tr>\n    <tr>\n      <th>1</th>\n      <td>Legend 3.2/3.5</td>\n      <td>2</td>\n      <td>1</td>\n    </tr>\n    <tr>\n      <th>2</th>\n      <td>NSX 3.0</td>\n      <td>3</td>\n      <td>1</td>\n    </tr>\n  </tbody>\n</table>\n<p>6108 rows × 3 columns</p>\n</div>"
     },
     "metadata": {},
     "execution_count": 3
    }
   ],
   "source": [
    "df = pd.DataFrame(modelos_df)\n",
    "df.columns = ['nome_modelo', 'id_modelo', 'id_marca']\n",
    "df"
   ]
  },
  {
   "cell_type": "code",
   "execution_count": 4,
   "metadata": {},
   "outputs": [],
   "source": [
    "dataset_final = marcas_df.merge(modelos_df, how='inner')\n",
    "\n",
    "dataset_final.to_csv('output/scrapping_marcas_modelos_fipe.csv')"
   ]
  },
  {
   "cell_type": "code",
   "execution_count": null,
   "metadata": {},
   "outputs": [],
   "source": []
  }
 ]
}