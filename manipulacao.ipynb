{
 "metadata": {
  "language_info": {
   "codemirror_mode": {
    "name": "ipython",
    "version": 3
   },
   "file_extension": ".py",
   "mimetype": "text/x-python",
   "name": "python",
   "nbconvert_exporter": "python",
   "pygments_lexer": "ipython3",
   "version": "3.8.5"
  },
  "orig_nbformat": 2,
  "kernelspec": {
   "name": "python3",
   "display_name": "Python 3.8.5 64-bit ('base': conda)"
  },
  "interpreter": {
   "hash": "80df4573815e2fbc1434c8f9d7234411ca19ec91ea5669cedcae75f03f5659be"
  }
 },
 "nbformat": 4,
 "nbformat_minor": 2,
 "cells": [
  {
   "cell_type": "code",
   "execution_count": 7,
   "metadata": {},
   "outputs": [],
   "source": [
    "import pandas as pd \n",
    "import numpy as np \n",
    "from fuzzywuzzy import fuzz\n",
    "from fuzzywuzzy import process\n",
    "from email.mime.text import MIMEText\n",
    "from email.mime.application import MIMEApplication\n",
    "from email.mime.multipart import MIMEMultipart\n",
    "from smtplib import SMTP\n",
    "import smtplib\n",
    "from datetime import date\n"
   ]
  },
  {
   "cell_type": "code",
   "execution_count": 8,
   "metadata": {},
   "outputs": [],
   "source": [
    "\n",
    "today = date.today()\n",
    "d1 = today.strftime(\"%d/%m/%Y\")\n"
   ]
  },
  {
   "cell_type": "code",
   "execution_count": 9,
   "metadata": {},
   "outputs": [],
   "source": [
    "dataset = pd.read_csv('output/scrapping_anuncios_shopcar.csv')\n",
    "\n",
    "## geração de id do shop car\n",
    "\n",
    "dataset['Id_Anuncio_ShopCar'] = pd.Series(dataset['Link']).str.slice(start=-7)\n",
    "dataset.reset_index()\n",
    "dataset.set_index('Id_Anuncio_ShopCar', inplace=True)\n",
    "dataset.drop(labels=['Unnamed: 0'], axis=1)\n",
    "\n",
    "## correção do campo data ano/modelo\n",
    "\n",
    "ano_fabricacao = pd.Series(dataset['Ano']).str.slice(stop=2)\n",
    "dataset['Ano_Fabricacao'] = pd.to_numeric(ano_fabricacao)\n",
    "dataset['Ano_Fabricacao'] = np.where(dataset['Ano_Fabricacao'] < 22, 2000 + dataset['Ano_Fabricacao'], 1900 + dataset['Ano_Fabricacao'])\n",
    "\n",
    "ano_modelo = pd.Series(dataset['Ano']).str.slice(start=3, stop=5)\n",
    "dataset['Ano_Modelo'] = pd.to_numeric(ano_modelo)\n",
    "dataset['Ano_Modelo'] = np.where(dataset['Ano_Modelo'] < 22, 2000 + dataset['Ano_Modelo'], 1900 + dataset['Ano_Modelo'])\n",
    "dataset = dataset.drop(labels=['Ano'], axis=1)\n",
    "dataset = dataset.drop(labels=['Unnamed: 0'], axis=1)\n",
    "\n",
    "## correção do campo KM\n",
    "dataset['KM'] = dataset['KM'].str.replace('Km', '')\n",
    "dataset['KM'] = dataset['KM'].str.replace('.', '')\n",
    "dataset['KM'] = pd.to_numeric(dataset['KM'], errors='coerce')\n",
    "\n",
    "## correção do campo KM\n",
    "dataset['Preco'] = dataset['Preco'].str.replace('R', '')\n",
    "dataset['Preco'] = dataset['Preco'].str.replace('$', '')\n",
    "dataset['Preco'] = dataset['Preco'].str.replace('.', '')\n",
    "dataset['Preco'] = dataset['Preco'].str.replace(',00', '')\n",
    "dataset['Preco'] = pd.to_numeric(dataset['Preco'], errors='coerce')\n",
    "\n",
    "## endereços \n",
    "enderecos = pd.Series(dataset['Cidade'])\n",
    "dataset['Estado_Anuncio'] = enderecos.str.partition('/')[2]\n",
    "dataset['Endereco_Anuncio'] = enderecos.str.partition('-')[0]\n",
    "\n",
    "enderecos = enderecos.str.partition('-')[2]\n",
    "enderecos.str.partition(' - ')\n",
    "dataset['Bairro_Anuncio'] = enderecos.str.partition('-')[0]\n",
    "\n",
    "enderecos = enderecos.str.partition('-')[2]\n",
    "enderecos = enderecos.str.partition('/')\n",
    "dataset['Cidade_Anuncio'] = enderecos[0]\n",
    "\n",
    "## marca \n",
    "marca = dataset['Link'].str.partition('/')[2]\n",
    "dataset['Marca'] = marca.str.partition('/')[2].str.partition('/')[2].str.partition('/')[2].str.partition('/')[0]\n",
    "\n",
    "\n",
    "dataset.to_csv(f'output/tratamento_anuncios_shopcar_{today.strftime(\"%d%m%Y\")}.csv')\n"
   ]
  },
  {
   "cell_type": "code",
   "execution_count": 10,
   "metadata": {},
   "outputs": [],
   "source": [
    "filtro = dataset[(dataset.Preco < 40000) & (dataset.KM < 50000)].sort_values(by = 'Preco')"
   ]
  },
  {
   "cell_type": "code",
   "execution_count": 11,
   "metadata": {},
   "outputs": [],
   "source": [
    "qtd_veiculos = dataset.Modelo.count()\n",
    "qtd_veiculos2 = filtro.Modelo.count()"
   ]
  },
  {
   "cell_type": "code",
   "execution_count": 12,
   "metadata": {},
   "outputs": [
    {
     "output_type": "execute_result",
     "data": {
      "text/plain": [
       "{}"
      ]
     },
     "metadata": {},
     "execution_count": 12
    }
   ],
   "source": [
    "\n",
    "email_user = '#'\n",
    "email_password = '#'\n",
    "\n",
    "recipients = ['#', 'jorgematosltda@gmail.com', 'jvalencarmg@gmail.com'] \n",
    "emaillist = [elem.strip().split(',') for elem in recipients]\n",
    "msg = MIMEMultipart()\n",
    "msg['Subject'] = f'|SHOP CAR| - {qtd_veiculos} carros extraídos com sucesso! {qtd_veiculos2} parecem ser bons!'\n",
    "msg['From'] = 'maycon.mota@gmail.com'\n",
    "\n",
    "\n",
    "html = \"\"\"\\\n",
    "<html>\n",
    "  <head></head>\n",
    "  <body>\n",
    "<div>\n",
    "Bom dia, encaminho o relatório contendo todos os veículos do ShopCar extraídos na data de {0}. São filtrados veículos com KM menor que 50000 e menos de R$ 40000.\n",
    "Boa sorte!\n",
    "</div>\n",
    "    {1}\n",
    "  </body>\n",
    "</html>\n",
    "\"\"\".format(d1, filtro.to_html())\n",
    "\n",
    "part1 = MIMEText(html, 'html')\n",
    "msg.attach(part1)\n",
    "\n",
    "server = smtplib.SMTP('smtp.gmail.com', 587)\n",
    "server.starttls()\n",
    "server.login(email_user,email_password)\n",
    "server.sendmail(msg['From'], emaillist , msg.as_string())"
   ]
  },
  {
   "cell_type": "code",
   "execution_count": null,
   "metadata": {},
   "outputs": [],
   "source": []
  }
 ]
}