{
 "cells": [
  {
   "cell_type": "code",
   "execution_count": null,
   "metadata": {},
   "outputs": [],
   "source": [
    "import pandas as pd \n",
    "import numpy as np \n",
    "from datetime import date\n",
    "import requests\n",
    "import json"
   ]
  },
  {
   "cell_type": "code",
   "execution_count": null,
   "metadata": {},
   "outputs": [],
   "source": [
    "def buscarMarca():\n",
    "    url = \"https://veiculos.fipe.org.br/api/veiculos//ConsultarMarcas?codigoTabelaReferencia=267&codigoTipoVeiculo=1\"\n",
    "\n",
    "    payload = \"{\\r\\n    \\r\\n}\"\n",
    "    headers = {\n",
    "    'Content-Type': 'text/plain',\n",
    "    'Cookie': 'ROUTEID=.3'\n",
    "    }\n",
    "    response = requests.request(\"POST\", url, headers=headers, data=payload)\n",
    "    return pd.DataFrame(json.loads(response.content))\n",
    "\n",
    "def buscarCarros(marcas):\n",
    "    modelos = pd.DataFrame()\n",
    "    for marca in marcas:\n",
    "        url = f\"https://veiculos.fipe.org.br/api/veiculos//ConsultarModelos?codigoTipoVeiculo=1&codigoTabelaReferencia=267&codigoMarca={marca}\"\n",
    "        payload = \"{\\r\\n    \\r\\n}\"\n",
    "        headers = {\n",
    "        'Content-Type': 'text/plain',\n",
    "        'Cookie': 'ROUTEID=.3'\n",
    "        }\n",
    "        response = requests.request(\"POST\", url, headers=headers, data=payload)\n",
    "        try:\n",
    "            veiculos = json.loads(response.content)\n",
    "        except:\n",
    "            print('')\n",
    "        df_temp = pd.DataFrame(veiculos['Modelos'])\n",
    "        df_temp['id_marca'] = f\"{marca}\"\n",
    "        modelos = pd.concat([df_temp, modelos])\n",
    "    return modelos\n",
    "\n",
    "marcas_df = buscarMarca()\n",
    "marcas_df.columns = ['nome_marca', 'id_marca']\n",
    "marcas_df\n",
    "\n",
    "modelos_df = buscarCarros(marcas_df['id_marca'])\n"
   ]
  },
  {
   "cell_type": "code",
   "execution_count": null,
   "metadata": {},
   "outputs": [],
   "source": [
    "df = pd.DataFrame(modelos_df)\n",
    "df.columns = ['nome_modelo', 'id_modelo', 'id_marca']\n",
    "df"
   ]
  },
  {
   "cell_type": "code",
   "execution_count": null,
   "metadata": {},
   "outputs": [],
   "source": [
    "dataset_final = marcas_df.merge(modelos_df, how='inner')\n",
    "\n",
    "dataset_final.to_csv('output/scrapping_marcas_modelos_fipe.csv', encoding='latin')"
   ]
  },
  {
   "cell_type": "code",
   "execution_count": null,
   "metadata": {},
   "outputs": [],
   "source": []
  }
 ],
 "metadata": {
  "interpreter": {
   "hash": "80df4573815e2fbc1434c8f9d7234411ca19ec91ea5669cedcae75f03f5659be"
  },
  "kernelspec": {
   "display_name": "Python 3.8.5 64-bit ('base': conda)",
   "name": "python3"
  },
  "language_info": {
   "codemirror_mode": {
    "name": "ipython",
    "version": 3
   },
   "file_extension": ".py",
   "mimetype": "text/x-python",
   "name": "python",
   "nbconvert_exporter": "python",
   "pygments_lexer": "ipython3",
   "version": "3.8.5"
  },
  "orig_nbformat": 4
 },
 "nbformat": 4,
 "nbformat_minor": 2
}
