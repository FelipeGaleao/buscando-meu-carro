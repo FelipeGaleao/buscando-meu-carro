{
 "cells": [
  {
   "cell_type": "code",
   "execution_count": 1,
   "metadata": {},
   "outputs": [],
   "source": [
    "import pandas as pd \n",
    "import numpy as np "
   ]
  },
  {
   "cell_type": "code",
   "execution_count": 16,
   "metadata": {},
   "outputs": [],
   "source": [
    "df_olx = pd.read_csv('../airflow/staging/anuncios_olx_fuzzy.csv', encoding='latin').drop(labels= ['Unnamed: 0'], axis=1).rename(columns={'vendedor': 'Vendedor', 'bairro': 'Bairro_Anuncio',\n",
    "                                                    'cidade': 'Cidade_Anuncio', 'link_anuncio_olx': 'Link', 'regiao': 'Estado_Anuncio'})\n",
    "df_shopcar = pd.read_csv('../airflow/staging/anuncios_shopcar_fuzzy.csv', encoding='latin').drop(labels= ['Unnamed: 0'], axis=1)\n",
    "df_olx['Cidade'] = df_olx['Cidade_Anuncio']\n",
    "df_final = pd.concat([df_olx, df_shopcar])\n",
    "df_final.to_csv('mastertable_olx_shopcar.csv')"
   ]
  }
 ],
 "metadata": {
  "interpreter": {
   "hash": "80df4573815e2fbc1434c8f9d7234411ca19ec91ea5669cedcae75f03f5659be"
  },
  "kernelspec": {
   "display_name": "Python 3.8.12 64-bit ('base': conda)",
   "language": "python",
   "name": "python3"
  },
  "language_info": {
   "codemirror_mode": {
    "name": "ipython",
    "version": 3
   },
   "file_extension": ".py",
   "mimetype": "text/x-python",
   "name": "python",
   "nbconvert_exporter": "python",
   "pygments_lexer": "ipython3",
   "version": "3.8.12"
  },
  "orig_nbformat": 4
 },
 "nbformat": 4,
 "nbformat_minor": 2
}
