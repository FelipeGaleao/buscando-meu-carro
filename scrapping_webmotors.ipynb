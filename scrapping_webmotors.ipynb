{
 "metadata": {
  "language_info": {
   "codemirror_mode": {
    "name": "ipython",
    "version": 3
   },
   "file_extension": ".py",
   "mimetype": "text/x-python",
   "name": "python",
   "nbconvert_exporter": "python",
   "pygments_lexer": "ipython3",
   "version": "3.8.5"
  },
  "orig_nbformat": 4,
  "kernelspec": {
   "name": "python3",
   "display_name": "Python 3.8.5 64-bit ('base': conda)"
  },
  "interpreter": {
   "hash": "80df4573815e2fbc1434c8f9d7234411ca19ec91ea5669cedcae75f03f5659be"
  }
 },
 "nbformat": 4,
 "nbformat_minor": 2,
 "cells": [
  {
   "cell_type": "code",
   "execution_count": 1,
   "metadata": {},
   "outputs": [],
   "source": [
    "import requests\n",
    "import pandas \n",
    "import numpy \n",
    "import json\n"
   ]
  },
  {
   "cell_type": "code",
   "execution_count": null,
   "metadata": {},
   "outputs": [],
   "source": [
    "import requests\n",
    "import pandas \n",
    "import numpy \n",
    "import json\n",
    "from io import StringIO\n",
    "\n",
    "def json_to_series(text):\n",
    "    keys, values = zip(*[(dct['label'], dct['value']) for dct in json.loads(text)])\n",
    "    return pd.Series(values, index=keys)\n",
    "\n",
    "\n",
    "index = 1\n",
    "req_total = []\n",
    "dados_veiculos = pandas.DataFrame()\n",
    "\n",
    "while index < 150:\n",
    "    req_veiculos = requests.get(\"https://www.webmotors.com.br/api/search/car?url=https://www.webmotors.com.br/carros%2Fms%3Fanunciante%3DConcession%25C3%25A1ria%257CLoja%26estadocidade%3DMato%2520Grosso%2520do%2520Sul\", params=\"actualPage=\" + str(index))\n",
    "    req_veiculos = json.loads(req_veiculos.text)\n",
    "    try:\n",
    "        req_veiculos = req_veiculos['SearchResults']\n",
    "        json_str = json.dumps(req_veiculos)\n",
    "        veiculos = pandas.read_json(json_str)\n",
    "        tabela_especificacoes = pandas.json_normalize(veiculos['Specification'])\n",
    "        veiculos = veiculos.join(other= tabela_especificacoes)\n",
    "\n",
    "        tabela_precos = pandas.json_normalize(veiculos['Prices'])\n",
    "        veiculos = veiculos.join(other= tabela_precos)\n",
    "        \n",
    "        tabela_vendedor = pandas.json_normalize(veiculos['Seller'])\n",
    "        veiculos = veiculos.join(other= tabela_vendedor)\n",
    "        dados_veiculos = pandas.concat([dados_veiculos, veiculos])\n",
    "    except:\n",
    "        print(f\"Ocorreu um erro na página {index}\")\n",
    "    index +=1\n",
    "\n",
    "dados_veiculos = dados_veiculos.drop(labels=['Prices', 'Channels', 'VehicleAttributes', 'Media', 'Specification', 'Seller'], axis=1)\n",
    "\n",
    "dados_veiculos.to_csv('output/anuncios_webmotors.csv')"
   ]
  }
 ]
}