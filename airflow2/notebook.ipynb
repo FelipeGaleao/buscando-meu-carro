{
 "cells": [
  {
   "cell_type": "code",
   "execution_count": 2,
   "metadata": {},
   "outputs": [
    {
     "ename": "ModuleNotFoundError",
     "evalue": "No module named 'selenium'",
     "output_type": "error",
     "traceback": [
      "\u001b[1;31m---------------------------------------------------------------------------\u001b[0m",
      "\u001b[1;31mModuleNotFoundError\u001b[0m                       Traceback (most recent call last)",
      "\u001b[1;32m~\\AppData\\Local\\Temp/ipykernel_15624/335309893.py\u001b[0m in \u001b[0;36m<module>\u001b[1;34m\u001b[0m\n\u001b[0;32m      4\u001b[0m \u001b[1;32mfrom\u001b[0m \u001b[0mbs4\u001b[0m \u001b[1;32mimport\u001b[0m \u001b[0mBeautifulSoup\u001b[0m\u001b[1;33m\u001b[0m\u001b[1;33m\u001b[0m\u001b[0m\n\u001b[0;32m      5\u001b[0m \u001b[1;32mimport\u001b[0m \u001b[0mcloudscraper\u001b[0m\u001b[1;33m\u001b[0m\u001b[1;33m\u001b[0m\u001b[0m\n\u001b[1;32m----> 6\u001b[1;33m \u001b[1;32mfrom\u001b[0m \u001b[0mselenium\u001b[0m \u001b[1;32mimport\u001b[0m \u001b[0mwebdriver\u001b[0m\u001b[1;33m\u001b[0m\u001b[1;33m\u001b[0m\u001b[0m\n\u001b[0m\u001b[0;32m      7\u001b[0m \u001b[1;32mfrom\u001b[0m \u001b[0mselenium\u001b[0m \u001b[1;32mimport\u001b[0m \u001b[0mwebdriver\u001b[0m\u001b[1;33m\u001b[0m\u001b[1;33m\u001b[0m\u001b[0m\n\u001b[0;32m      8\u001b[0m \u001b[1;32mfrom\u001b[0m \u001b[0mselenium\u001b[0m\u001b[1;33m.\u001b[0m\u001b[0mwebdriver\u001b[0m\u001b[1;33m.\u001b[0m\u001b[0mchrome\u001b[0m\u001b[1;33m.\u001b[0m\u001b[0mservice\u001b[0m \u001b[1;32mimport\u001b[0m \u001b[0mService\u001b[0m \u001b[1;32mas\u001b[0m \u001b[0mChromeService\u001b[0m\u001b[1;33m\u001b[0m\u001b[1;33m\u001b[0m\u001b[0m\n",
      "\u001b[1;31mModuleNotFoundError\u001b[0m: No module named 'selenium'"
     ]
    }
   ],
   "source": [
    "import pandas \n",
    "import json \n",
    "import requests\n",
    "from bs4 import BeautifulSoup\n",
    "import cloudscraper\n",
    "from selenium import webdriver\n",
    "from selenium import webdriver\n",
    "from selenium.webdriver.chrome.service import Service as ChromeService\n",
    "from webdriver_manager.chrome import ChromeDriverManager\n",
    "# from fake_useragent import UserAgent\n",
    "\n",
    "# ua = UserAgent(verify_ssl=False)\n",
    "# userAgent = ua.random\n",
    "chrome_options = webdriver.ChromeOptions()\n",
    "chrome_options.add_argument(\"start-maximized\")\n",
    "chrome_options.add_argument('--no-sandbox')\n",
    "chrome_options.add_argument('--window-size=1920,1080')\n",
    "chrome_options.add_argument('--headless')\n",
    "chrome_options.add_argument('--disable-gpu')\n",
    "chrome_options.add_argument(f'user-agent=Mozilla/5.0 (Windows NT 10.0; Win64; x64) AppleWebKit/537.36 (KHTML, like Gecko) Chrome/107.0.0.0 Safari/537.36')\n",
    "chrome_options.add_argument(\"--disable-blink-features=AutomationControlled\")\n",
    "chrome_options.add_argument('--disable-dev-shm-usage')        \n",
    "\n",
    "pagina = 1\n",
    "\n",
    "print(f\"Iniciando scrapping ...... {pagina}\")\n",
    "url = f\"https://www.shopcar.com.br/busca.php?tipo=1&marca=&string=&ordenar=valor_asc&pagina={pagina}\"\n",
    "driver = webdriver.Chrome(service=ChromeService(ChromeDriverManager().install()), chrome_options=chrome_options)\n",
    "\n",
    "driver.get(url)\n",
    "\n",
    "res = driver.page_source\n",
    "# print(res)\n",
    "\n",
    "soup = BeautifulSoup(res, \"html.parser\")\n",
    "index = 0\n",
    "carro_dados = []\n",
    "\n",
    "for carro in soup.find_all(class_='itens'):\n",
    "    carro_detalhes = carro.select(\".coluna-2\")\n",
    "    try:\n",
    "        carro_modelo = carro_detalhes[0]('div')[0].get_text()\n",
    "        anoModelo_anoFabricacao = carro_detalhes[0]('div')[2].get_text()\n",
    "        corCarro = carro_detalhes[0]('div')[3].get_text()\n",
    "        combustivelCarro = carro_detalhes[0]('div')[4].get_text()\n",
    "        preco = carro_detalhes[0]('div')[7].get_text()\n",
    "        try:\n",
    "            kmCarro = carro[0]('div')[5].get_text()\n",
    "        except:\n",
    "            kmCarro = 'Não disponível'\n",
    "        link_veiculo = carro('a')[1].get('href')\n",
    "        url = link_veiculo\n",
    "        driver.get(url)\n",
    "        res = driver.page_source\n",
    "        soup = BeautifulSoup(res)\n",
    "        vendedor = soup.find_all(class_='dados1')[0].find_all(class_='nome')[0].get_text()\n",
    "        cidade = soup.find_all(class_='dados1')[0].find_all(class_='endereco')[0].get_text()\n",
    "        carro_dados.append([carro_modelo, anoModelo_anoFabricacao, corCarro, combustivelCarro, kmCarro, preco, link_veiculo, vendedor, cidade])\n",
    "    except:\n",
    "        pass\n",
    "    \n",
    "carros_df = pandas.DataFrame(carro_dados)\n",
    "print(carro_dados)\n",
    "carros_df.columns = ['Modelo', 'Ano', 'Cor',' Combustível','KM', 'Preco', 'Link', 'Vendedor', 'Cidade']\n",
    "carros_df.to_csv('./output_data/raw/shopcar/scrapping_anuncios_shopcar.csv', mode='a', header=False, encoding='utf8')"
   ]
  }
 ],
 "metadata": {
  "kernelspec": {
   "display_name": "Python 3.8.12 ('bdgd')",
   "language": "python",
   "name": "python3"
  },
  "language_info": {
   "codemirror_mode": {
    "name": "ipython",
    "version": 3
   },
   "file_extension": ".py",
   "mimetype": "text/x-python",
   "name": "python",
   "nbconvert_exporter": "python",
   "pygments_lexer": "ipython3",
   "version": "3.8.12"
  },
  "orig_nbformat": 4,
  "vscode": {
   "interpreter": {
    "hash": "1132fa133f11760a0b7447f113394b2ac39a9f5e24667e342cf1efea777769e2"
   }
  }
 },
 "nbformat": 4,
 "nbformat_minor": 2
}
