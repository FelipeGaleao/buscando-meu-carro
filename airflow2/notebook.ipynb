{
 "cells": [
  {
   "cell_type": "code",
   "execution_count": 6,
   "metadata": {},
   "outputs": [
    {
     "name": "stdout",
     "output_type": "stream",
     "text": [
      "Iniciando scrapping ...... 1\n",
      "\n"
     ]
    },
    {
     "name": "stderr",
     "output_type": "stream",
     "text": [
      "C:\\Users\\mayco\\AppData\\Local\\Temp/ipykernel_8400/335309893.py:28: DeprecationWarning: use options instead of chrome_options\n",
      "  driver = webdriver.Chrome(service=ChromeService(ChromeDriverManager().install()), chrome_options=chrome_options)\n"
     ]
    },
    {
     "name": "stdout",
     "output_type": "stream",
     "text": [
      "[['Picanto EX 1.1 12v A/T', '08/08', 'Prata', 'Gasolina', 'Não disponível', 'DETALHES', 'https://www.shopcar.com.br/veiculos/kia/picanto-ex-1-1-12v/08-08/1233414', 'Jaqueline Albuquerque Coutinho', 'Dourados - MS'], ['Corcel GT', '76/76', 'Azul', 'Gasolina', 'Não disponível', 'DETALHES', 'https://www.shopcar.com.br/veiculos/ford/corcel-gt/76-76/1227249', 'Lucia Helena Coca Cristofari', 'Dourados - MS'], ['Uno Mille 1.0 Fire 2p.', '05/06', 'Prata', 'Flex', 'Não disponível', 'DETALHES', 'https://www.shopcar.com.br/veiculos/fiat/uno-mille-1-0-fire-2p/05-06/1229825', 'Felipe', 'Campo Grande - MS'], ['Focus Sedan Ghia 2.0 16v', '02/03', 'Prata', 'Gasolina', 'Não disponível', 'R$\\xa018.000,00', 'https://www.shopcar.com.br/veiculos/ford/focus-sedan-ghia-2-0-16v/02-03/1204954', 'Meu Carro Novo', 'Av. Weimar Gonçalves Torres, 4150 - Jardim Caramuru - Dourados / MS'], ['Gol 1.0 2p.', '10/10', 'Prata', 'Flex', 'Não disponível', 'R$\\xa018.990,00', 'https://www.shopcar.com.br/veiculos/vw-volkswagen/gol-1-0-2p/10-10/1230480', 'Carlos Paiva Oliveira', 'Campo Grande - MS'], ['Gol 1.6 4p.', '07/08', 'Preta', 'Flex', 'Não disponível', 'R$\\xa019.000,00', 'https://www.shopcar.com.br/veiculos/vw-volkswagen/gol-1-6-4p/07-08/1232657', 'Rodrigo de Oliveira Martins', 'Campo Grande - MS'], ['Uno Mille Economy 1.0 Fire 2p.', '13/13', 'Branca', 'Flex', 'Não disponível', 'DETALHES', 'https://www.shopcar.com.br/veiculos/fiat/uno-mille-economy-1-0-fire-2p/13-13/1217064', 'Lolo Veículos', 'Rodovia MS 156, 2595 - Chácara Sidelis - Dourados / MS'], ['207 Passion XR S 1.4', '10/11', 'Prata', 'Flex', 'Não disponível', 'R$\\xa020.900,00', 'https://www.shopcar.com.br/veiculos/peugeot/207-passion-xr-s-1-4/10-11/1229296', 'Premium Motors', 'Rua João Pedro de Souza,73 - Jardim Monte Líbano - Campo Grande / MS'], ['Fox Route 1.0 4p.', '08/09', 'Prata', 'Flex', 'Não disponível', 'R$\\xa020.900,00', 'https://www.shopcar.com.br/veiculos/vw-volkswagen/fox-route-1-0-4p/08-09/1229854', 'Marcus Ramos Gonçalves', 'Campo Grande - MS'], ['Gol 1.0 4p.', '07/08', 'Cinza', 'Flex', 'Não disponível', 'R$\\xa020.900,00', 'https://www.shopcar.com.br/veiculos/vw-volkswagen/gol-1-0-4p/07-08/1232388', 'Samir Souza Oliveira', 'Campo Grande - MS'], ['Ka 1.0', '11/11', 'Branca', 'Flex', 'Não disponível', 'R$\\xa020.900,00', 'https://www.shopcar.com.br/veiculos/ford/ka-1-0/11-11/1233849', 'Gian Luca Assumpção Massa', 'Dourados - MS'], ['Ka 1.0', '10/11', 'Prata', 'Flex', 'Não disponível', 'DETALHES', 'https://www.shopcar.com.br/veiculos/ford/ka-1-0/10-11/1216249', 'Elite Veículos', 'Av. Ernesto Geisel, 5990 - Centro - Campo Grande / MS'], ['Uno Mille Economy 1.0 Fire 2p.', '10/11', 'Prata', 'Flex', 'Não disponível', 'R$\\xa020.900,00', 'https://www.shopcar.com.br/veiculos/fiat/uno-mille-economy-1-0-fire-2p/10-11/1222061', 'Saraiva Automóveis', 'Av. Bandeirantes, 2900 - Vila Jacy - Campo Grande / MS'], ['Ka 1.0', '08/09', 'Preta', 'Flex', 'Não disponível', 'R$\\xa022.000,00', 'https://www.shopcar.com.br/veiculos/ford/ka-1-0/08-09/1232495', 'Jose Ricardo', 'Campo Grande - MS'], ['Opala 2.5', '79/79', 'Branca', 'Gasolina', 'Não disponível', 'DETALHES', 'https://www.shopcar.com.br/veiculos/gm-chevrolet/opala-2-5/79-79/1225768', 'Jair Avilla da Silva', 'Campo Grande - MS'], ['Palio 1.0 Fire 4p.', '07/07', 'Prata', 'Flex', 'Não disponível', 'DETALHES', 'https://www.shopcar.com.br/veiculos/fiat/palio-1-0-fire-4p/07-07/1197919', 'Realize Automóveis', 'Av. Salgado Filho, 935 - Amambai - Campo Grande / MS'], ['Gol 1.0 4p.', '09/10', 'Branca', 'Flex', 'Não disponível', 'DETALHES', 'https://www.shopcar.com.br/veiculos/vw-volkswagen/gol-1-0-4p/09-10/1229196', 'Federal Car', 'Av. Bandeirantes, 2236 - Nova Bandeirantes - Campo Grande / MS'], ['Corsa Sedan Maxx 1.4', '08/08', 'Cinza', 'Flex', 'Não disponível', 'R$\\xa023.500,00', 'https://www.shopcar.com.br/veiculos/gm-chevrolet/corsa-sedan-maxx-1-4/08-08/1232541', 'Weslley Goncalves Pereira da Silva', 'Campo Grande - MS'], ['Ka 1.0', '10/11', 'Prata', 'Flex', 'Não disponível', 'R$\\xa023.900,00', 'https://www.shopcar.com.br/veiculos/ford/ka-1-0/10-11/1231561', 'Vale Veículos', 'Av. Fernando Correa da Costa, 2099 - Jardim Aclimação - Campo Grande / MS'], ['Fiesta Hatch 1.0 4p.', '10/11', 'Cinza', 'Flex', 'Não disponível', 'R$\\xa024.500,00', 'https://www.shopcar.com.br/veiculos/ford/fiesta-hatch-1-0-4p/10-11/1228099', 'Ruan Gabriel Sanabria', 'Ponta Porã - MS']]\n"
     ]
    },
    {
     "ename": "FileNotFoundError",
     "evalue": "[Errno 2] No such file or directory: './output_data/raw/shopcar/scrapping_anuncios_shopcar.csv'",
     "output_type": "error",
     "traceback": [
      "\u001b[1;31m---------------------------------------------------------------------------\u001b[0m",
      "\u001b[1;31mFileNotFoundError\u001b[0m                         Traceback (most recent call last)",
      "\u001b[1;32m~\\AppData\\Local\\Temp/ipykernel_8400/335309893.py\u001b[0m in \u001b[0;36m<module>\u001b[1;34m\u001b[0m\n\u001b[0;32m     63\u001b[0m \u001b[0mprint\u001b[0m\u001b[1;33m(\u001b[0m\u001b[0mcarro_dados\u001b[0m\u001b[1;33m)\u001b[0m\u001b[1;33m\u001b[0m\u001b[1;33m\u001b[0m\u001b[0m\n\u001b[0;32m     64\u001b[0m \u001b[0mcarros_df\u001b[0m\u001b[1;33m.\u001b[0m\u001b[0mcolumns\u001b[0m \u001b[1;33m=\u001b[0m \u001b[1;33m[\u001b[0m\u001b[1;34m'Modelo'\u001b[0m\u001b[1;33m,\u001b[0m \u001b[1;34m'Ano'\u001b[0m\u001b[1;33m,\u001b[0m \u001b[1;34m'Cor'\u001b[0m\u001b[1;33m,\u001b[0m\u001b[1;34m' Combustível'\u001b[0m\u001b[1;33m,\u001b[0m\u001b[1;34m'KM'\u001b[0m\u001b[1;33m,\u001b[0m \u001b[1;34m'Preco'\u001b[0m\u001b[1;33m,\u001b[0m \u001b[1;34m'Link'\u001b[0m\u001b[1;33m,\u001b[0m \u001b[1;34m'Vendedor'\u001b[0m\u001b[1;33m,\u001b[0m \u001b[1;34m'Cidade'\u001b[0m\u001b[1;33m]\u001b[0m\u001b[1;33m\u001b[0m\u001b[1;33m\u001b[0m\u001b[0m\n\u001b[1;32m---> 65\u001b[1;33m \u001b[0mcarros_df\u001b[0m\u001b[1;33m.\u001b[0m\u001b[0mto_csv\u001b[0m\u001b[1;33m(\u001b[0m\u001b[1;34m'./output_data/raw/shopcar/scrapping_anuncios_shopcar.csv'\u001b[0m\u001b[1;33m,\u001b[0m \u001b[0mmode\u001b[0m\u001b[1;33m=\u001b[0m\u001b[1;34m'a'\u001b[0m\u001b[1;33m,\u001b[0m \u001b[0mheader\u001b[0m\u001b[1;33m=\u001b[0m\u001b[1;32mFalse\u001b[0m\u001b[1;33m,\u001b[0m \u001b[0mencoding\u001b[0m\u001b[1;33m=\u001b[0m\u001b[1;34m'utf8'\u001b[0m\u001b[1;33m)\u001b[0m\u001b[1;33m\u001b[0m\u001b[1;33m\u001b[0m\u001b[0m\n\u001b[0m",
      "\u001b[1;32md:\\ProgramData\\Anaconda3\\lib\\site-packages\\pandas\\core\\generic.py\u001b[0m in \u001b[0;36mto_csv\u001b[1;34m(self, path_or_buf, sep, na_rep, float_format, columns, header, index, index_label, mode, encoding, compression, quoting, quotechar, line_terminator, chunksize, date_format, doublequote, escapechar, decimal, errors, storage_options)\u001b[0m\n\u001b[0;32m   3464\u001b[0m         )\n\u001b[0;32m   3465\u001b[0m \u001b[1;33m\u001b[0m\u001b[0m\n\u001b[1;32m-> 3466\u001b[1;33m         return DataFrameRenderer(formatter).to_csv(\n\u001b[0m\u001b[0;32m   3467\u001b[0m             \u001b[0mpath_or_buf\u001b[0m\u001b[1;33m,\u001b[0m\u001b[1;33m\u001b[0m\u001b[1;33m\u001b[0m\u001b[0m\n\u001b[0;32m   3468\u001b[0m             \u001b[0mline_terminator\u001b[0m\u001b[1;33m=\u001b[0m\u001b[0mline_terminator\u001b[0m\u001b[1;33m,\u001b[0m\u001b[1;33m\u001b[0m\u001b[1;33m\u001b[0m\u001b[0m\n",
      "\u001b[1;32md:\\ProgramData\\Anaconda3\\lib\\site-packages\\pandas\\io\\formats\\format.py\u001b[0m in \u001b[0;36mto_csv\u001b[1;34m(self, path_or_buf, encoding, sep, columns, index_label, mode, compression, quoting, quotechar, line_terminator, chunksize, date_format, doublequote, escapechar, errors, storage_options)\u001b[0m\n\u001b[0;32m   1103\u001b[0m             \u001b[0mformatter\u001b[0m\u001b[1;33m=\u001b[0m\u001b[0mself\u001b[0m\u001b[1;33m.\u001b[0m\u001b[0mfmt\u001b[0m\u001b[1;33m,\u001b[0m\u001b[1;33m\u001b[0m\u001b[1;33m\u001b[0m\u001b[0m\n\u001b[0;32m   1104\u001b[0m         )\n\u001b[1;32m-> 1105\u001b[1;33m         \u001b[0mcsv_formatter\u001b[0m\u001b[1;33m.\u001b[0m\u001b[0msave\u001b[0m\u001b[1;33m(\u001b[0m\u001b[1;33m)\u001b[0m\u001b[1;33m\u001b[0m\u001b[1;33m\u001b[0m\u001b[0m\n\u001b[0m\u001b[0;32m   1106\u001b[0m \u001b[1;33m\u001b[0m\u001b[0m\n\u001b[0;32m   1107\u001b[0m         \u001b[1;32mif\u001b[0m \u001b[0mcreated_buffer\u001b[0m\u001b[1;33m:\u001b[0m\u001b[1;33m\u001b[0m\u001b[1;33m\u001b[0m\u001b[0m\n",
      "\u001b[1;32md:\\ProgramData\\Anaconda3\\lib\\site-packages\\pandas\\io\\formats\\csvs.py\u001b[0m in \u001b[0;36msave\u001b[1;34m(self)\u001b[0m\n\u001b[0;32m    235\u001b[0m         \"\"\"\n\u001b[0;32m    236\u001b[0m         \u001b[1;31m# apply compression and byte/text conversion\u001b[0m\u001b[1;33m\u001b[0m\u001b[1;33m\u001b[0m\u001b[0m\n\u001b[1;32m--> 237\u001b[1;33m         with get_handle(\n\u001b[0m\u001b[0;32m    238\u001b[0m             \u001b[0mself\u001b[0m\u001b[1;33m.\u001b[0m\u001b[0mfilepath_or_buffer\u001b[0m\u001b[1;33m,\u001b[0m\u001b[1;33m\u001b[0m\u001b[1;33m\u001b[0m\u001b[0m\n\u001b[0;32m    239\u001b[0m             \u001b[0mself\u001b[0m\u001b[1;33m.\u001b[0m\u001b[0mmode\u001b[0m\u001b[1;33m,\u001b[0m\u001b[1;33m\u001b[0m\u001b[1;33m\u001b[0m\u001b[0m\n",
      "\u001b[1;32md:\\ProgramData\\Anaconda3\\lib\\site-packages\\pandas\\io\\common.py\u001b[0m in \u001b[0;36mget_handle\u001b[1;34m(path_or_buf, mode, encoding, compression, memory_map, is_text, errors, storage_options)\u001b[0m\n\u001b[0;32m    700\u001b[0m         \u001b[1;32mif\u001b[0m \u001b[0mioargs\u001b[0m\u001b[1;33m.\u001b[0m\u001b[0mencoding\u001b[0m \u001b[1;32mand\u001b[0m \u001b[1;34m\"b\"\u001b[0m \u001b[1;32mnot\u001b[0m \u001b[1;32min\u001b[0m \u001b[0mioargs\u001b[0m\u001b[1;33m.\u001b[0m\u001b[0mmode\u001b[0m\u001b[1;33m:\u001b[0m\u001b[1;33m\u001b[0m\u001b[1;33m\u001b[0m\u001b[0m\n\u001b[0;32m    701\u001b[0m             \u001b[1;31m# Encoding\u001b[0m\u001b[1;33m\u001b[0m\u001b[1;33m\u001b[0m\u001b[0m\n\u001b[1;32m--> 702\u001b[1;33m             handle = open(\n\u001b[0m\u001b[0;32m    703\u001b[0m                 \u001b[0mhandle\u001b[0m\u001b[1;33m,\u001b[0m\u001b[1;33m\u001b[0m\u001b[1;33m\u001b[0m\u001b[0m\n\u001b[0;32m    704\u001b[0m                 \u001b[0mioargs\u001b[0m\u001b[1;33m.\u001b[0m\u001b[0mmode\u001b[0m\u001b[1;33m,\u001b[0m\u001b[1;33m\u001b[0m\u001b[1;33m\u001b[0m\u001b[0m\n",
      "\u001b[1;31mFileNotFoundError\u001b[0m: [Errno 2] No such file or directory: './output_data/raw/shopcar/scrapping_anuncios_shopcar.csv'"
     ]
    }
   ],
   "source": [
    "import pandas \n",
    "import json \n",
    "import requests\n",
    "from bs4 import BeautifulSoup\n",
    "import cloudscraper\n",
    "from selenium import webdriver\n",
    "from selenium import webdriver\n",
    "from selenium.webdriver.chrome.service import Service as ChromeService\n",
    "from webdriver_manager.chrome import ChromeDriverManager\n",
    "# from fake_useragent import UserAgent\n",
    "\n",
    "# ua = UserAgent(verify_ssl=False)\n",
    "# userAgent = ua.random\n",
    "chrome_options = webdriver.ChromeOptions()\n",
    "chrome_options.add_argument(\"start-maximized\")\n",
    "chrome_options.add_argument('--no-sandbox')\n",
    "chrome_options.add_argument('--window-size=1920,1080')\n",
    "chrome_options.add_argument('--headless')\n",
    "chrome_options.add_argument('--disable-gpu')\n",
    "chrome_options.add_argument(f'user-agent=Mozilla/5.0 (Windows NT 10.0; Win64; x64) AppleWebKit/537.36 (KHTML, like Gecko) Chrome/107.0.0.0 Safari/537.36')\n",
    "chrome_options.add_argument(\"--disable-blink-features=AutomationControlled\")\n",
    "chrome_options.add_argument('--disable-dev-shm-usage')        \n",
    "\n",
    "pagina = 1\n",
    "\n",
    "print(f\"Iniciando scrapping ...... {pagina}\")\n",
    "url = f\"https://www.shopcar.com.br/busca.php?tipo=1&marca=&string=&ordenar=valor_asc&pagina={pagina}\"\n",
    "driver = webdriver.Chrome(service=ChromeService(ChromeDriverManager().install()), chrome_options=chrome_options)\n",
    "\n",
    "driver.get(url)\n",
    "\n",
    "res = driver.page_source\n",
    "# print(res)\n",
    "\n",
    "soup = BeautifulSoup(res, \"html.parser\")\n",
    "index = 0\n",
    "carro_dados = []\n",
    "\n",
    "for carro in soup.find_all(class_='itens'):\n",
    "    carro_detalhes = carro.select(\".coluna-2\")\n",
    "    try:\n",
    "        carro_modelo = carro_detalhes[0]('div')[0].get_text()\n",
    "        anoModelo_anoFabricacao = carro_detalhes[0]('div')[2].get_text()\n",
    "        corCarro = carro_detalhes[0]('div')[3].get_text()\n",
    "        combustivelCarro = carro_detalhes[0]('div')[4].get_text()\n",
    "        preco = carro_detalhes[0]('div')[7].get_text()\n",
    "        try:\n",
    "            kmCarro = carro[0]('div')[5].get_text()\n",
    "        except:\n",
    "            kmCarro = 'Não disponível'\n",
    "        link_veiculo = carro('a')[1].get('href')\n",
    "        url = link_veiculo\n",
    "        driver.get(url)\n",
    "        res = driver.page_source\n",
    "        soup = BeautifulSoup(res)\n",
    "        vendedor = soup.find_all(class_='dados1')[0].find_all(class_='nome')[0].get_text()\n",
    "        cidade = soup.find_all(class_='dados1')[0].find_all(class_='endereco')[0].get_text()\n",
    "        carro_dados.append([carro_modelo, anoModelo_anoFabricacao, corCarro, combustivelCarro, kmCarro, preco, link_veiculo, vendedor, cidade])\n",
    "    except:\n",
    "        pass\n",
    "    \n",
    "carros_df = pandas.DataFrame(carro_dados)\n",
    "print(carro_dados)\n",
    "carros_df.columns = ['Modelo', 'Ano', 'Cor',' Combustível','KM', 'Preco', 'Link', 'Vendedor', 'Cidade']\n",
    "carros_df.to_csv('./output_data/raw/shopcar/scrapping_anuncios_shopcar.csv', mode='a', header=False, encoding='utf8')"
   ]
  }
 ],
 "metadata": {
  "kernelspec": {
   "display_name": "Python 3.9.7 ('base')",
   "language": "python",
   "name": "python3"
  },
  "language_info": {
   "codemirror_mode": {
    "name": "ipython",
    "version": 3
   },
   "file_extension": ".py",
   "mimetype": "text/x-python",
   "name": "python",
   "nbconvert_exporter": "python",
   "pygments_lexer": "ipython3",
   "version": "3.9.7"
  },
  "orig_nbformat": 4,
  "vscode": {
   "interpreter": {
    "hash": "e42634819b8c191a5d07eaf23810ff32516dd8d3875f28ec3e488928fbd3c187"
   }
  }
 },
 "nbformat": 4,
 "nbformat_minor": 2
}
